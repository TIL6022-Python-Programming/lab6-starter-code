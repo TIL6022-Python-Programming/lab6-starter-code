{
 "cells": [
  {
   "cell_type": "markdown",
   "metadata": {},
   "source": [
    "\n",
    "[<img src=\"https://raw.githubusercontent.com/mbakker7/exploratory_computing_with_python/master/tudelft_logo.png\" width=\"200\" align='right'>](https://www.tudelft.nl/citg/over-faculteit/afdelingen/geoscience-remote-sensing/staff/scientific-staff/dr-stef-lhermitte)\n",
    "\n",
    "\n",
    "# Lab 1 - Python Environment \n",
    "*Date: Sep. 3rd, 2025*\n",
    "\n",
    "*Lecturer: Yanan Xin (yanan.xin at tudelft.nl)*\n",
    "\n",
    "*This assignment is prepared for the TIL6022 Python Programming course offered in 2025/2026 Q1.*"
   ]
  },
  {
   "cell_type": "markdown",
   "metadata": {},
   "source": [
    "## The Zen of Python"
   ]
  },
  {
   "cell_type": "code",
   "execution_count": null,
   "metadata": {},
   "outputs": [],
   "source": [
    "import this"
   ]
  },
  {
   "cell_type": "markdown",
   "metadata": {},
   "source": [
    "# Coding Assignments\n",
    "\n",
    "There are several places in the Python code below that violate the Python standards and PEP8 coding style, please \n",
    "\n",
    "- Identify these issues and write the correct code in the Answer cell below. \n",
    "- **Read the requirement before completing the code**\n",
    "- Run your code and leave the output of your answer for the assignment evaluation. "
   ]
  },
  {
   "cell_type": "markdown",
   "metadata": {},
   "source": [
    "## Q1:\n",
    "\n",
    "Correct the following code to define a function called 'multiply' that multiplies two numbers. "
   ]
  },
  {
   "cell_type": "markdown",
   "metadata": {},
   "source": [
    "```python\n",
    "\n",
    "def multiply (a, b)\n",
    "return a * B\n",
    "\n",
    "```"
   ]
  },
  {
   "cell_type": "markdown",
   "metadata": {},
   "source": [
    "## Q1 Answer (please write the corrected code below):\n"
   ]
  },
  {
   "cell_type": "code",
   "execution_count": null,
   "metadata": {},
   "outputs": [],
   "source": [
    "# keep the function's name as multiply\n"
   ]
  },
  {
   "cell_type": "markdown",
   "metadata": {},
   "source": []
  },
  {
   "cell_type": "markdown",
   "metadata": {},
   "source": [
    "## Q2: \n",
    "\n",
    "Corect the following function called 'get_first_item' that takes a python list named 'items' and returns the first item of the list. For example, if items = [1, 2, 3], the function will return 1. If the list is empty, it will return 'No items to display.' \n",
    "\n",
    "```python\n",
    "\n",
    "# change the code below\n",
    "def get_first_item(items):\n",
    "    if items;\n",
    "        return(items[1])\n",
    "    else:\n",
    "    return(\"No items to display.\")\n",
    "\n",
    "```"
   ]
  },
  {
   "cell_type": "markdown",
   "metadata": {},
   "source": [
    "## Q2 Answer (please write the corrected code below):"
   ]
  },
  {
   "cell_type": "code",
   "execution_count": null,
   "metadata": {},
   "outputs": [],
   "source": [
    "def get_first_item(items):\n",
    "    # complete the code HERE"
   ]
  },
  {
   "cell_type": "markdown",
   "metadata": {},
   "source": [
    "## Q3: \n",
    "\n",
    "Corect the following function called 'schedule_tasks' that takes a python list 'tasks' as input. It iterates through the tasks list and prints out the scheduling message one at a time. At the end, it returns the message 'Done'\n",
    "\n",
    "\n",
    "```python\n",
    "\n",
    "def schedule_tasks(tasks):\n",
    "    for i in tasks:\n",
    "        print(f\"Scheduling task: {task})\n",
    "    return f\"Done\"\n",
    "\n",
    "```"
   ]
  },
  {
   "cell_type": "markdown",
   "metadata": {},
   "source": [
    "## Q3 Answer (please write the corrected code below):"
   ]
  },
  {
   "cell_type": "code",
   "execution_count": null,
   "metadata": {},
   "outputs": [],
   "source": [
    "def schedule_tasks(tasks):\n",
    "    # complete the code HERE\n"
   ]
  },
  {
   "cell_type": "markdown",
   "metadata": {},
   "source": [
    "## Q4: \n",
    "\n",
    "Correct the following function 'add_positive_numbers' that takes a list of numbers as input and adds up only positive numbers in the list. It returns the sum of the positive numbers at the end. \n",
    "\n",
    "```python\n",
    "\n",
    "def add_positive_numbers(numbers):\n",
    "    sum = 0\n",
    "    for num in Numbers:\n",
    "    if num > 0:\n",
    "        sum = sum + num\n",
    "\n",
    "```"
   ]
  },
  {
   "cell_type": "markdown",
   "metadata": {},
   "source": [
    "## Q4 Answer (please write the corrected code below):"
   ]
  },
  {
   "cell_type": "code",
   "execution_count": null,
   "metadata": {},
   "outputs": [],
   "source": [
    "def add_positive_numbers(numbers):\n",
    "    sum = 0\n",
    "    # complete the code HERE\n",
    "    # add a return statement\n"
   ]
  }
 ],
 "metadata": {
  "kernelspec": {
   "display_name": "TIL6022",
   "language": "python",
   "name": "python3"
  },
  "language_info": {
   "codemirror_mode": {
    "name": "ipython",
    "version": 3
   },
   "file_extension": ".py",
   "mimetype": "text/x-python",
   "name": "python",
   "nbconvert_exporter": "python",
   "pygments_lexer": "ipython3",
   "version": "3.12.6"
  }
 },
 "nbformat": 4,
 "nbformat_minor": 2
}
